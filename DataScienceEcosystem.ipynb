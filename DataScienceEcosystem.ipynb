{
 "cells": [
  {
   "cell_type": "markdown",
   "id": "77885bfc",
   "metadata": {},
   "source": [
    "# Data Science Tools and Ecosystem"
   ]
  },
  {
   "cell_type": "markdown",
   "id": "98ed493e",
   "metadata": {},
   "source": [
    "In this notebook, Data science tools and ecosystem are summarized "
   ]
  },
  {
   "cell_type": "markdown",
   "id": "89d63318",
   "metadata": {},
   "source": [
    "Some of the popular languages that data scientists use are \n",
    "\n",
    "1. Python \n",
    "2. R \n",
    "3. SQL\n",
    "4. Julia "
   ]
  },
  {
   "cell_type": "markdown",
   "id": "8ff3f27f",
   "metadata": {},
   "source": [
    "Some of the commonly used libraries include \n",
    "\n",
    "1. Pandas\n",
    "2. numpy \n",
    "3. Scipy \n",
    "4. Matplotlib"
   ]
  },
  {
   "cell_type": "markdown",
   "id": "7bc8dfc1",
   "metadata": {},
   "source": [
    "| Data Science Tools |\n",
    "|--------------------|\n",
    "|Jupyter Notebook and lab|\n",
    "|Apache Zepellin |\n",
    "|VS Code|"
   ]
  },
  {
   "cell_type": "markdown",
   "id": "6b4e8681",
   "metadata": {},
   "source": [
    "### Below are a few examples of evaluating arithmetic expressions in Python"
   ]
  },
  {
   "cell_type": "code",
   "execution_count": 3,
   "id": "d54b35b5",
   "metadata": {},
   "outputs": [
    {
     "data": {
      "text/plain": [
       "17"
      ]
     },
     "execution_count": 3,
     "metadata": {},
     "output_type": "execute_result"
    }
   ],
   "source": [
    "# This a simple arithmetic expression to mutiply then add integers\n",
    "\n",
    "(3*4)+5"
   ]
  },
  {
   "cell_type": "code",
   "execution_count": 4,
   "id": "6105b2d6",
   "metadata": {},
   "outputs": [
    {
     "data": {
      "text/plain": [
       "3.3333333333333335"
      ]
     },
     "execution_count": 4,
     "metadata": {},
     "output_type": "execute_result"
    }
   ],
   "source": [
    "#This will convert 200 minutes to hours by diving by 60\n",
    "\n",
    "200/60"
   ]
  },
  {
   "cell_type": "markdown",
   "id": "61cf13ed",
   "metadata": {},
   "source": [
    "**Objectives:**"
   ]
  },
  {
   "cell_type": "markdown",
   "id": "f9121f63",
   "metadata": {},
   "source": [
    "* Popular Languages in Data science \n",
    "* Common libraries in data science \n",
    "* Open source tools of Data Science "
   ]
  },
  {
   "cell_type": "markdown",
   "id": "1e0aa24e",
   "metadata": {},
   "source": [
    "## Author: \n",
    "\n",
    "Sathwik Reddy "
   ]
  },
  {
   "cell_type": "code",
   "execution_count": null,
   "id": "bb89a536",
   "metadata": {},
   "outputs": [],
   "source": []
  }
 ],
 "metadata": {
  "kernelspec": {
   "display_name": "Python 3 (ipykernel)",
   "language": "python",
   "name": "python3"
  },
  "language_info": {
   "codemirror_mode": {
    "name": "ipython",
    "version": 3
   },
   "file_extension": ".py",
   "mimetype": "text/x-python",
   "name": "python",
   "nbconvert_exporter": "python",
   "pygments_lexer": "ipython3",
   "version": "3.11.3"
  }
 },
 "nbformat": 4,
 "nbformat_minor": 5
}
